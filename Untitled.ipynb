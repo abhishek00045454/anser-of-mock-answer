{
 "cells": [
  {
   "cell_type": "code",
   "execution_count": 1,
   "id": "32181201",
   "metadata": {},
   "outputs": [],
   "source": [
    "# Given an integer array nums, move all 0's to the end of it while maintaining the relative order of the non-zero elements.\n",
    "\n",
    "# Note that you must do this in-place without making a copy of the array.\n",
    "\n",
    "# Example 1:\n",
    "# Input: nums = [0,1,0,3,12]\n",
    "# Output: [1,3,12,0,0]\n",
    "\n",
    "# Example 2:\n",
    "# Input: nums = [0]\n",
    "# Output: [0]\n",
    "\n",
    "# Constraints:\n",
    "# a. 1 <= nums.length <= 10^4\n",
    "# b. -2^31 <= nums[i] <= 2^31 - 1\n",
    "\n",
    "# Note: Create a GitHub file for the solution and add the file link the the answer section below."
   ]
  },
  {
   "cell_type": "code",
   "execution_count": 2,
   "id": "cd8ab195",
   "metadata": {},
   "outputs": [],
   "source": [
    "class Solution:\n",
    "    def MovesZeroes(self,nums):\n",
    "        me=0\n",
    "        for fe in range(len(nums)):\n",
    "            if nums[fe]!=0:\n",
    "                nums[me]=nums[fe]\n",
    "                me+=1\n",
    "        while me <len(nums):\n",
    "            nums[me]=0\n",
    "            me+=1\n",
    "        return nums"
   ]
  },
  {
   "cell_type": "code",
   "execution_count": 4,
   "id": "0be07184",
   "metadata": {},
   "outputs": [
    {
     "name": "stdout",
     "output_type": "stream",
     "text": [
      "[1, 3, 12, 0, 0]\n"
     ]
    }
   ],
   "source": [
    "nums = [0, 1, 0, 3, 12]\n",
    "solution = Solution()\n",
    "result = solution.MovesZeroes(nums)\n",
    "print(result)\n"
   ]
  },
  {
   "cell_type": "code",
   "execution_count": null,
   "id": "87f1ef82",
   "metadata": {},
   "outputs": [],
   "source": []
  }
 ],
 "metadata": {
  "kernelspec": {
   "display_name": "Python 3 (ipykernel)",
   "language": "python",
   "name": "python3"
  },
  "language_info": {
   "codemirror_mode": {
    "name": "ipython",
    "version": 3
   },
   "file_extension": ".py",
   "mimetype": "text/x-python",
   "name": "python",
   "nbconvert_exporter": "python",
   "pygments_lexer": "ipython3",
   "version": "3.10.9"
  }
 },
 "nbformat": 4,
 "nbformat_minor": 5
}
